{
 "cells": [
  {
   "cell_type": "code",
   "execution_count": 97,
   "id": "cd116dea-561d-427f-8b78-98fd57a1ef62",
   "metadata": {},
   "outputs": [],
   "source": [
    "from bs4 import BeautifulSoup # Import BeautifulSoup for parsing HTML\n",
    "import requests # Import requests to make HTTP requests\n",
    "import pandas as pd # Import pandas for data manipulation"
   ]
  },
  {
   "cell_type": "code",
   "execution_count": 99,
   "id": "63b0efd9-3152-4410-97a9-c05bee7ef783",
   "metadata": {},
   "outputs": [],
   "source": [
    "# URL of the Wikipedia page to scrape\n",
    "url = 'https://en.wikipedia.org/wiki/List_of_largest_companies_in_the_United_States_by_revenue'\n",
    "\n",
    "# Send a GET request to the URL\n",
    "page = requests.get(url)\n",
    "\n",
    "# Parse the HTML content of the page with BeautifulSoup\n",
    "soup = BeautifulSoup(page.text, 'html')"
   ]
  },
  {
   "cell_type": "code",
   "execution_count": 100,
   "id": "60a12955-a3cf-4722-9300-0bcd0695219d",
   "metadata": {},
   "outputs": [],
   "source": [
    "# Find all tables on the page and select the second one (index 1) as this is the one that will be used\n",
    "table = soup.find_all('table')[1]"
   ]
  },
  {
   "cell_type": "code",
   "execution_count": null,
   "id": "03f35a70-3247-4863-85cc-1b5418b97bd1",
   "metadata": {},
   "outputs": [],
   "source": [
    "print (table) # Print the table for verification"
   ]
  },
  {
   "cell_type": "code",
   "execution_count": 104,
   "id": "d2ab7646-b039-453f-9540-8c41be41410f",
   "metadata": {},
   "outputs": [],
   "source": [
    "# Find all 'th' elements (table headers) in the table\n",
    "world_titles = table.find_all('th')"
   ]
  },
  {
   "cell_type": "code",
   "execution_count": 107,
   "id": "32a20016-f611-45d5-8992-0e74135c286a",
   "metadata": {},
   "outputs": [
    {
     "name": "stdout",
     "output_type": "stream",
     "text": [
      "['Rank', 'Name', 'Industry', 'Revenue (USD millions)', 'Revenue growth', 'Employees', 'Headquarters']\n"
     ]
    }
   ],
   "source": [
    "# Extract and clean the text from each table header\n",
    "world_table_titles = [title.text.strip() for title in world_titles]\n",
    "print (world_table_titles) # Print the table headers for verification"
   ]
  },
  {
   "cell_type": "code",
   "execution_count": 109,
   "id": "79ec54d2-35c6-4a3f-8e3e-0248a9d57f3d",
   "metadata": {},
   "outputs": [
    {
     "data": {
      "text/html": [
       "<div>\n",
       "<style scoped>\n",
       "    .dataframe tbody tr th:only-of-type {\n",
       "        vertical-align: middle;\n",
       "    }\n",
       "\n",
       "    .dataframe tbody tr th {\n",
       "        vertical-align: top;\n",
       "    }\n",
       "\n",
       "    .dataframe thead th {\n",
       "        text-align: right;\n",
       "    }\n",
       "</style>\n",
       "<table border=\"1\" class=\"dataframe\">\n",
       "  <thead>\n",
       "    <tr style=\"text-align: right;\">\n",
       "      <th></th>\n",
       "      <th>Rank</th>\n",
       "      <th>Name</th>\n",
       "      <th>Industry</th>\n",
       "      <th>Revenue (USD millions)</th>\n",
       "      <th>Revenue growth</th>\n",
       "      <th>Employees</th>\n",
       "      <th>Headquarters</th>\n",
       "    </tr>\n",
       "  </thead>\n",
       "  <tbody>\n",
       "  </tbody>\n",
       "</table>\n",
       "</div>"
      ],
      "text/plain": [
       "Empty DataFrame\n",
       "Columns: [Rank, Name, Industry, Revenue (USD millions), Revenue growth, Employees, Headquarters]\n",
       "Index: []"
      ]
     },
     "execution_count": 109,
     "metadata": {},
     "output_type": "execute_result"
    }
   ],
   "source": [
    "# Create an empty DataFrame with the table headers as column names\n",
    "df = pd.DataFrame(columns = world_table_titles)\n",
    "df # Print DataFrame for verification"
   ]
  },
  {
   "cell_type": "code",
   "execution_count": 111,
   "id": "1c978738-1d93-4cb9-9a97-4c4dcfa95b30",
   "metadata": {},
   "outputs": [],
   "source": [
    "# Find all 'tr' elements (table rows) in the table\n",
    "column_data = table.find_all('tr')"
   ]
  },
  {
   "cell_type": "code",
   "execution_count": 113,
   "id": "6b017f38-21ba-4ea1-9576-8c878f6063a7",
   "metadata": {},
   "outputs": [],
   "source": [
    "# Iterate over each row except the first (header) row\n",
    "for row in column_data[1:]:\n",
    "    row_data = row.find_all('td') # Find all 'td' elements (table data) in the row\n",
    "    individual_row_data = [data.text.strip() for data in  row_data]  # Extract and clean the text from each cell\n",
    "\n",
    "    length = len(df) # Get the current length of the DataFrame\n",
    "    df.loc[length] = individual_row_data # Add the row data to the DataFrame\n",
    "\n",
    "    "
   ]
  },
  {
   "cell_type": "code",
   "execution_count": 115,
   "id": "8376fda8-7ac2-470d-88f0-df9fad6fdbf8",
   "metadata": {},
   "outputs": [
    {
     "data": {
      "text/html": [
       "<div>\n",
       "<style scoped>\n",
       "    .dataframe tbody tr th:only-of-type {\n",
       "        vertical-align: middle;\n",
       "    }\n",
       "\n",
       "    .dataframe tbody tr th {\n",
       "        vertical-align: top;\n",
       "    }\n",
       "\n",
       "    .dataframe thead th {\n",
       "        text-align: right;\n",
       "    }\n",
       "</style>\n",
       "<table border=\"1\" class=\"dataframe\">\n",
       "  <thead>\n",
       "    <tr style=\"text-align: right;\">\n",
       "      <th></th>\n",
       "      <th>Rank</th>\n",
       "      <th>Name</th>\n",
       "      <th>Industry</th>\n",
       "      <th>Revenue (USD millions)</th>\n",
       "      <th>Revenue growth</th>\n",
       "      <th>Employees</th>\n",
       "      <th>Headquarters</th>\n",
       "    </tr>\n",
       "  </thead>\n",
       "  <tbody>\n",
       "    <tr>\n",
       "      <th>0</th>\n",
       "      <td>1</td>\n",
       "      <td>Walmart</td>\n",
       "      <td>Retail</td>\n",
       "      <td>611,289</td>\n",
       "      <td>6.7%</td>\n",
       "      <td>2,100,000</td>\n",
       "      <td>Bentonville, Arkansas</td>\n",
       "    </tr>\n",
       "    <tr>\n",
       "      <th>1</th>\n",
       "      <td>2</td>\n",
       "      <td>Amazon</td>\n",
       "      <td>Retail and cloud computing</td>\n",
       "      <td>513,983</td>\n",
       "      <td>9.4%</td>\n",
       "      <td>1,540,000</td>\n",
       "      <td>Seattle, Washington</td>\n",
       "    </tr>\n",
       "    <tr>\n",
       "      <th>2</th>\n",
       "      <td>3</td>\n",
       "      <td>ExxonMobil</td>\n",
       "      <td>Petroleum industry</td>\n",
       "      <td>413,680</td>\n",
       "      <td>44.8%</td>\n",
       "      <td>62,000</td>\n",
       "      <td>Spring, Texas</td>\n",
       "    </tr>\n",
       "    <tr>\n",
       "      <th>3</th>\n",
       "      <td>4</td>\n",
       "      <td>Apple</td>\n",
       "      <td>Electronics industry</td>\n",
       "      <td>394,328</td>\n",
       "      <td>7.8%</td>\n",
       "      <td>164,000</td>\n",
       "      <td>Cupertino, California</td>\n",
       "    </tr>\n",
       "    <tr>\n",
       "      <th>4</th>\n",
       "      <td>5</td>\n",
       "      <td>UnitedHealth Group</td>\n",
       "      <td>Healthcare</td>\n",
       "      <td>324,162</td>\n",
       "      <td>12.7%</td>\n",
       "      <td>400,000</td>\n",
       "      <td>Minnetonka, Minnesota</td>\n",
       "    </tr>\n",
       "    <tr>\n",
       "      <th>...</th>\n",
       "      <td>...</td>\n",
       "      <td>...</td>\n",
       "      <td>...</td>\n",
       "      <td>...</td>\n",
       "      <td>...</td>\n",
       "      <td>...</td>\n",
       "      <td>...</td>\n",
       "    </tr>\n",
       "    <tr>\n",
       "      <th>95</th>\n",
       "      <td>96</td>\n",
       "      <td>Best Buy</td>\n",
       "      <td>Retail</td>\n",
       "      <td>46,298</td>\n",
       "      <td>10.6%</td>\n",
       "      <td>71,100</td>\n",
       "      <td>Richfield, Minnesota</td>\n",
       "    </tr>\n",
       "    <tr>\n",
       "      <th>96</th>\n",
       "      <td>97</td>\n",
       "      <td>Bristol-Myers Squibb</td>\n",
       "      <td>Pharmaceutical industry</td>\n",
       "      <td>46,159</td>\n",
       "      <td>0.5%</td>\n",
       "      <td>34,300</td>\n",
       "      <td>New York City, New York</td>\n",
       "    </tr>\n",
       "    <tr>\n",
       "      <th>97</th>\n",
       "      <td>98</td>\n",
       "      <td>United Airlines</td>\n",
       "      <td>Airline</td>\n",
       "      <td>44,955</td>\n",
       "      <td>82.5%</td>\n",
       "      <td>92,795</td>\n",
       "      <td>Chicago, Illinois</td>\n",
       "    </tr>\n",
       "    <tr>\n",
       "      <th>98</th>\n",
       "      <td>99</td>\n",
       "      <td>Thermo Fisher Scientific</td>\n",
       "      <td>Laboratory instruments</td>\n",
       "      <td>44,915</td>\n",
       "      <td>14.5%</td>\n",
       "      <td>130,000</td>\n",
       "      <td>Waltham, Massachusetts</td>\n",
       "    </tr>\n",
       "    <tr>\n",
       "      <th>99</th>\n",
       "      <td>100</td>\n",
       "      <td>Qualcomm</td>\n",
       "      <td>Technology</td>\n",
       "      <td>44,200</td>\n",
       "      <td>31.7%</td>\n",
       "      <td>51,000</td>\n",
       "      <td>San Diego, California</td>\n",
       "    </tr>\n",
       "  </tbody>\n",
       "</table>\n",
       "<p>100 rows × 7 columns</p>\n",
       "</div>"
      ],
      "text/plain": [
       "   Rank                      Name                    Industry  \\\n",
       "0     1                   Walmart                      Retail   \n",
       "1     2                    Amazon  Retail and cloud computing   \n",
       "2     3                ExxonMobil          Petroleum industry   \n",
       "3     4                     Apple        Electronics industry   \n",
       "4     5        UnitedHealth Group                  Healthcare   \n",
       "..  ...                       ...                         ...   \n",
       "95   96                  Best Buy                      Retail   \n",
       "96   97      Bristol-Myers Squibb     Pharmaceutical industry   \n",
       "97   98           United Airlines                     Airline   \n",
       "98   99  Thermo Fisher Scientific      Laboratory instruments   \n",
       "99  100                  Qualcomm                  Technology   \n",
       "\n",
       "   Revenue (USD millions) Revenue growth  Employees             Headquarters  \n",
       "0                 611,289           6.7%  2,100,000    Bentonville, Arkansas  \n",
       "1                 513,983           9.4%  1,540,000      Seattle, Washington  \n",
       "2                 413,680          44.8%     62,000            Spring, Texas  \n",
       "3                 394,328           7.8%    164,000    Cupertino, California  \n",
       "4                 324,162          12.7%    400,000    Minnetonka, Minnesota  \n",
       "..                    ...            ...        ...                      ...  \n",
       "95                 46,298          10.6%     71,100     Richfield, Minnesota  \n",
       "96                 46,159           0.5%     34,300  New York City, New York  \n",
       "97                 44,955          82.5%     92,795        Chicago, Illinois  \n",
       "98                 44,915          14.5%    130,000   Waltham, Massachusetts  \n",
       "99                 44,200          31.7%     51,000    San Diego, California  \n",
       "\n",
       "[100 rows x 7 columns]"
      ]
     },
     "execution_count": 115,
     "metadata": {},
     "output_type": "execute_result"
    }
   ],
   "source": [
    "df # Display the final DataFrame"
   ]
  }
 ],
 "metadata": {
  "kernelspec": {
   "display_name": "Python 3 (ipykernel)",
   "language": "python",
   "name": "python3"
  },
  "language_info": {
   "codemirror_mode": {
    "name": "ipython",
    "version": 3
   },
   "file_extension": ".py",
   "mimetype": "text/x-python",
   "name": "python",
   "nbconvert_exporter": "python",
   "pygments_lexer": "ipython3",
   "version": "3.11.7"
  }
 },
 "nbformat": 4,
 "nbformat_minor": 5
}
